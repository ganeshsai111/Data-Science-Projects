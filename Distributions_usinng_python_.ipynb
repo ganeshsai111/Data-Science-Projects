{
  "nbformat": 4,
  "nbformat_minor": 0,
  "metadata": {
    "colab": {
      "provenance": [],
      "authorship_tag": "ABX9TyPMDn52yFynKtL97272Ofcq",
      "include_colab_link": true
    },
    "kernelspec": {
      "name": "python3",
      "display_name": "Python 3"
    },
    "language_info": {
      "name": "python"
    }
  },
  "cells": [
    {
      "cell_type": "markdown",
      "metadata": {
        "id": "view-in-github",
        "colab_type": "text"
      },
      "source": [
        "<a href=\"https://colab.research.google.com/github/ganeshsai111/distributions-using-python/blob/main/Distributions_usinng_python_.ipynb\" target=\"_parent\"><img src=\"https://colab.research.google.com/assets/colab-badge.svg\" alt=\"Open In Colab\"/></a>"
      ]
    },
    {
      "cell_type": "markdown",
      "source": [
        "BINOMIAL DISTRIBUTION\n",
        "\n",
        "A machine manufacturing screws is known to produce 5% defective. In a random \n",
        "sample of 15 screws, what is the probability that there are \n",
        "(i) exactly 3 defectives (ii) not more than 3 defectives?"
      ],
      "metadata": {
        "id": "MixyhWm-l-p4"
      }
    },
    {
      "cell_type": "code",
      "source": [
        "from scipy.stats import binom\n"
      ],
      "metadata": {
        "id": "KwORmdj-l_U0"
      },
      "execution_count": null,
      "outputs": []
    },
    {
      "cell_type": "code",
      "source": [
        "print(binom.pmf(k=3,n=15,p=0.05))  #code for exactly three"
      ],
      "metadata": {
        "colab": {
          "base_uri": "https://localhost:8080/"
        },
        "id": "4VtGTPm0mGcl",
        "outputId": "c1e8fdf7-b48a-4d35-d548-258e85d93c51"
      },
      "execution_count": null,
      "outputs": [
        {
          "output_type": "stream",
          "name": "stdout",
          "text": [
            "0.03073297998581252\n"
          ]
        }
      ]
    },
    {
      "cell_type": "code",
      "source": [
        "print(binom.cdf(3,15,0.05)) # here we find for upto three"
      ],
      "metadata": {
        "colab": {
          "base_uri": "https://localhost:8080/"
        },
        "id": "CRvVpa5gnQSf",
        "outputId": "23da2a3e-7569-4ff8-ba16-a25667d50119"
      },
      "execution_count": null,
      "outputs": [
        {
          "output_type": "stream",
          "name": "stdout",
          "text": [
            "0.9945327413430833\n"
          ]
        }
      ]
    },
    {
      "cell_type": "markdown",
      "source": [
        "If 10% of the screws produced by an automatic machine are defective , find the \n",
        "probability that of 20 screws selected at random, there are \n",
        "(i) exactly 2 defectives (ii) at most 3 defectives (iii) at least 2 defectives \n",
        "(iv) between 1 and 3 defectives(inclusive)."
      ],
      "metadata": {
        "id": "JJWv-j_gnxFt"
      }
    },
    {
      "cell_type": "code",
      "source": [
        "print(binom.pmf(k=2,n=20,p=0.10)) # for exactly 2 defective"
      ],
      "metadata": {
        "colab": {
          "base_uri": "https://localhost:8080/"
        },
        "id": "5SjjbhT0nzTc",
        "outputId": "b2aada13-829a-475f-fb7d-acbbadcff19a"
      },
      "execution_count": null,
      "outputs": [
        {
          "output_type": "stream",
          "name": "stdout",
          "text": [
            "0.28517980706429846\n"
          ]
        }
      ]
    },
    {
      "cell_type": "code",
      "source": [
        "print(binom.cdf(3,20,0.10)) # for atmost 3 defectives"
      ],
      "metadata": {
        "colab": {
          "base_uri": "https://localhost:8080/"
        },
        "id": "-8JdkrtYoNNP",
        "outputId": "ae3067ca-2756-44b2-a093-305cb474d814"
      },
      "execution_count": null,
      "outputs": [
        {
          "output_type": "stream",
          "name": "stdout",
          "text": [
            "0.8670466765656649\n"
          ]
        }
      ]
    },
    {
      "cell_type": "code",
      "source": [
        "print(1- binom.cdf(1,20,0.10)) # for atleast 2 defectives"
      ],
      "metadata": {
        "colab": {
          "base_uri": "https://localhost:8080/"
        },
        "id": "3TbZ-mTWofZY",
        "outputId": "109c5118-7c0e-42bc-cc9f-8c68dbab0593"
      },
      "execution_count": null,
      "outputs": [
        {
          "output_type": "stream",
          "name": "stdout",
          "text": [
            "0.6082530018748321\n"
          ]
        }
      ]
    },
    {
      "cell_type": "code",
      "source": [
        "# for 4th one first we need to find difference between probability of 3 then subtract to 0 we get the answer\n",
        "\n",
        "print(binom.cdf(3,20,0.10) - binom.cdf(0,20,0.10))"
      ],
      "metadata": {
        "colab": {
          "base_uri": "https://localhost:8080/"
        },
        "id": "YQM7sBmyo9_h",
        "outputId": "1f1ef51b-90a3-4b31-8fa7-b8321a3539d6"
      },
      "execution_count": null,
      "outputs": [
        {
          "output_type": "stream",
          "name": "stdout",
          "text": [
            "0.7454700219750957\n"
          ]
        }
      ]
    },
    {
      "cell_type": "markdown",
      "source": [
        "In a large consignment of electric bulb 10% are defective. A random sample of 20 is \n",
        "taken for inspection. Find the probability that (i) all are good bulbs (ii) at most there \n",
        "are 3 defective bulbs (iii) exactly there are 3 defective bulbs"
      ],
      "metadata": {
        "id": "20gZftnps_yU"
      }
    },
    {
      "cell_type": "code",
      "source": [
        "print(binom.cdf(0,20,0.10)) # for first sub division"
      ],
      "metadata": {
        "colab": {
          "base_uri": "https://localhost:8080/"
        },
        "id": "_dSxe6omtAvi",
        "outputId": "91b9a9e8-277a-4f4b-c44e-89cfd490035b"
      },
      "execution_count": null,
      "outputs": [
        {
          "output_type": "stream",
          "name": "stdout",
          "text": [
            "0.12157665459056925\n"
          ]
        }
      ]
    },
    {
      "cell_type": "code",
      "source": [
        "print(binom.cdf(3,20,0.10)) # second sub division"
      ],
      "metadata": {
        "colab": {
          "base_uri": "https://localhost:8080/"
        },
        "id": "3YoldP1JtN3D",
        "outputId": "eff40ff7-1f7e-45e7-f494-97f963099820"
      },
      "execution_count": null,
      "outputs": [
        {
          "output_type": "stream",
          "name": "stdout",
          "text": [
            "0.8670466765656649\n"
          ]
        }
      ]
    },
    {
      "cell_type": "code",
      "source": [
        "print(binom.pmf(k=3,n=20,p=0.10)) # third sub division"
      ],
      "metadata": {
        "colab": {
          "base_uri": "https://localhost:8080/"
        },
        "id": "qZheDUNstas7",
        "outputId": "f4495ed5-3322-40b5-82a3-d7994964fb50"
      },
      "execution_count": null,
      "outputs": [
        {
          "output_type": "stream",
          "name": "stdout",
          "text": [
            "0.19011987137619904\n"
          ]
        }
      ]
    },
    {
      "cell_type": "markdown",
      "source": [
        "It is known that the probability of an item produced by a certain machine will be \n",
        "defective is 0.05. If the produced items are sent to the market in packets of 20, find \n",
        "the number of packets containing at least, exactly and at most 2 defective items in a \n",
        "consignment of 1000 packets using \n",
        "(i) Binomial Distribution (ii) Poisson Distribution"
      ],
      "metadata": {
        "id": "dmW1vjuDwHSu"
      }
    },
    {
      "cell_type": "code",
      "source": [
        "print(binom.pmf(k=2,n=20,p=0.05)) # exactly 2 using binomial distribution"
      ],
      "metadata": {
        "colab": {
          "base_uri": "https://localhost:8080/"
        },
        "id": "sOwxff3EwIS0",
        "outputId": "d648206e-8d45-4715-d221-504c53ff4d5a"
      },
      "execution_count": null,
      "outputs": [
        {
          "output_type": "stream",
          "name": "stdout",
          "text": [
            "0.18867680126765404\n"
          ]
        }
      ]
    },
    {
      "cell_type": "code",
      "source": [
        "print(binom.cdf(2,20,0.05)) # atmost 2 using binomial distribution"
      ],
      "metadata": {
        "colab": {
          "base_uri": "https://localhost:8080/"
        },
        "id": "uCrNFOmNw74p",
        "outputId": "5860c243-39bc-4703-cd62-179aed67f42c"
      },
      "execution_count": null,
      "outputs": [
        {
          "output_type": "stream",
          "name": "stdout",
          "text": [
            "0.9245163262115037\n"
          ]
        }
      ]
    },
    {
      "cell_type": "code",
      "source": [
        "print(1 - binom.cdf(1,20,0.05)) # atleast 2 using binomial distribution"
      ],
      "metadata": {
        "colab": {
          "base_uri": "https://localhost:8080/"
        },
        "id": "NLHnXIHrxGO_",
        "outputId": "d02d8e19-c25e-475d-e874-d8db8fe2fc52"
      },
      "execution_count": null,
      "outputs": [
        {
          "output_type": "stream",
          "name": "stdout",
          "text": [
            "0.2641604750561498\n"
          ]
        }
      ]
    },
    {
      "cell_type": "markdown",
      "source": [
        "POISSON DISTRIBUTION\n",
        "\n",
        "\n",
        "\n"
      ],
      "metadata": {
        "id": "RzP148Z0xsbt"
      }
    },
    {
      "cell_type": "code",
      "source": [
        "from scipy.stats import poisson"
      ],
      "metadata": {
        "id": "v0z0hEJNxvwX"
      },
      "execution_count": null,
      "outputs": []
    },
    {
      "cell_type": "code",
      "source": [
        "print(poisson.pmf(2,1)) # for poisson distribution lambda = n* p here n=20 and p=0.05\n",
        "\n",
        "# for exactly 2 defective using poisson distribution"
      ],
      "metadata": {
        "colab": {
          "base_uri": "https://localhost:8080/"
        },
        "id": "iMMYKozDxzjA",
        "outputId": "c515a337-b2a6-49f4-997e-de0483597f87"
      },
      "execution_count": null,
      "outputs": [
        {
          "output_type": "stream",
          "name": "stdout",
          "text": [
            "0.18393972058572114\n"
          ]
        }
      ]
    },
    {
      "cell_type": "code",
      "source": [
        "print(poisson.cdf(2,1)) # for atmost 2 using poissons distribution"
      ],
      "metadata": {
        "colab": {
          "base_uri": "https://localhost:8080/"
        },
        "id": "twXZvZSdzFdQ",
        "outputId": "aa6b8037-c6b4-4fe8-86dc-07fa4ab64866"
      },
      "execution_count": null,
      "outputs": [
        {
          "output_type": "stream",
          "name": "stdout",
          "text": [
            "0.9196986029286058\n"
          ]
        }
      ]
    },
    {
      "cell_type": "code",
      "source": [
        "print(1 - poisson.cdf(1,1)) # atleast 2 using poisson distribution"
      ],
      "metadata": {
        "colab": {
          "base_uri": "https://localhost:8080/"
        },
        "id": "Mokme1pOzTs1",
        "outputId": "e1bcb8a3-cdd8-4a2f-b8bc-28b898693075"
      },
      "execution_count": null,
      "outputs": [
        {
          "output_type": "stream",
          "name": "stdout",
          "text": [
            "0.26424111765711533\n"
          ]
        }
      ]
    },
    {
      "cell_type": "markdown",
      "source": [
        "In a certain factory producing blades, there is a small chance\n",
        "1/500\n",
        "for any blade to be \n",
        "defective. The blades are supplied in packets of 10. Use Poisson distribution to \n",
        "calculate the approximate number of packets containing \n",
        "(i) at least one defective blade \n",
        "(ii) at most one defective blade in a consignment of 10,000 packets.\n"
      ],
      "metadata": {
        "id": "zqADmCCHzqLY"
      }
    },
    {
      "cell_type": "code",
      "source": [
        "# p=1/500 = 0.002 for poissson distribution lambda=n * p =10*0.002 = 0.02\n",
        "print(poisson.cdf(1,0.02)) #for atmost 1 defective"
      ],
      "metadata": {
        "colab": {
          "base_uri": "https://localhost:8080/"
        },
        "id": "Wq455yHTz4V5",
        "outputId": "d1a120a1-de23-4363-925f-8165e815f208"
      },
      "execution_count": null,
      "outputs": [
        {
          "output_type": "stream",
          "name": "stdout",
          "text": [
            "0.9998026467728904\n"
          ]
        }
      ]
    },
    {
      "cell_type": "code",
      "source": [
        "print(1- poisson.cdf(1,0.02)) # for atleast 1 defective"
      ],
      "metadata": {
        "colab": {
          "base_uri": "https://localhost:8080/"
        },
        "id": "l-vaazoa007m",
        "outputId": "30874976-1a67-4c01-fee9-707fedf1e20e"
      },
      "execution_count": null,
      "outputs": [
        {
          "output_type": "stream",
          "name": "stdout",
          "text": [
            "0.0001973532271095646\n"
          ]
        }
      ]
    },
    {
      "cell_type": "markdown",
      "source": [
        "The number of monthly breakdowns of a computer is a random variable having a \n",
        "Poisson distribution with mean equal to 1.8. Find the probability that this computer \n",
        "will function for a month  (i) with only one breakdown \n",
        "(ii) with at least one breakdown"
      ],
      "metadata": {
        "id": "O2wIyaor3ASC"
      }
    },
    {
      "cell_type": "code",
      "source": [
        "print(poisson.pmf(1,1.8)) # first sub division"
      ],
      "metadata": {
        "colab": {
          "base_uri": "https://localhost:8080/"
        },
        "id": "w6GS6gHT3WsV",
        "outputId": "b1a343c9-5e8e-4269-b028-050cc73ba1f1"
      },
      "execution_count": null,
      "outputs": [
        {
          "output_type": "stream",
          "name": "stdout",
          "text": [
            "0.2975379987988558\n"
          ]
        }
      ]
    },
    {
      "cell_type": "code",
      "source": [
        "print(1- poisson.cdf(1,1.8)) # second sub division"
      ],
      "metadata": {
        "colab": {
          "base_uri": "https://localhost:8080/"
        },
        "id": "OUb_olbj3gfc",
        "outputId": "cf6bea58-6a68-43ba-e202-a0a744dc5d59"
      },
      "execution_count": null,
      "outputs": [
        {
          "output_type": "stream",
          "name": "stdout",
          "text": [
            "0.5371631129795577\n"
          ]
        }
      ]
    },
    {
      "cell_type": "markdown",
      "source": [
        "A radioactive source emits on the average 2.5 particles per second. Find the \n",
        "probability that 3 or more particles will be emitted in an interval of 4 secs."
      ],
      "metadata": {
        "id": "SJ6xhPyP33QW"
      }
    },
    {
      "cell_type": "code",
      "source": [
        "print(1-poisson.cdf(3,10))"
      ],
      "metadata": {
        "colab": {
          "base_uri": "https://localhost:8080/"
        },
        "id": "rUdeRtiV39CH",
        "outputId": "2feec920-9e58-43bb-f762-c0910bb3a7df"
      },
      "execution_count": null,
      "outputs": [
        {
          "output_type": "stream",
          "name": "stdout",
          "text": [
            "0.9896639493240743\n"
          ]
        }
      ]
    },
    {
      "cell_type": "markdown",
      "source": [
        "The atoms of a radioactive element are randomly disintegrating. If every gram of this \n",
        "element, on average, emits 3.9 alpha particles per second, what is the probability that \n",
        "during the next second the number of alpha particles emitted from 1gm is \n",
        "(i) at most 6 (ii) at least 2 (iii) at least 3 and at most 6."
      ],
      "metadata": {
        "id": "6qdunmwn56Ux"
      }
    },
    {
      "cell_type": "code",
      "source": [
        "print(poisson.cdf(6,3.9)) # first sub division"
      ],
      "metadata": {
        "colab": {
          "base_uri": "https://localhost:8080/"
        },
        "id": "DHFRDiRM57Ds",
        "outputId": "6253f34c-c7b3-407a-b04b-ab468eebe45e"
      },
      "execution_count": null,
      "outputs": [
        {
          "output_type": "stream",
          "name": "stdout",
          "text": [
            "0.8994830350936126\n"
          ]
        }
      ]
    },
    {
      "cell_type": "code",
      "source": [
        "print(1-poisson.cdf(1,3.9)) # second sub division"
      ],
      "metadata": {
        "colab": {
          "base_uri": "https://localhost:8080/"
        },
        "id": "pDDdhU5h640e",
        "outputId": "8a4312a9-1670-4914-da9d-36858dacfa84"
      },
      "execution_count": null,
      "outputs": [
        {
          "output_type": "stream",
          "name": "stdout",
          "text": [
            "0.9008146339155585\n"
          ]
        }
      ]
    },
    {
      "cell_type": "code",
      "source": [
        "print(poisson.cdf(6,3.9)-(1-poisson.cdf(2,3.9))) # third sub division"
      ],
      "metadata": {
        "colab": {
          "base_uri": "https://localhost:8080/"
        },
        "id": "DzNIljkM7I4O",
        "outputId": "cf7759bf-12b7-45d1-c2df-484b7ca9b0d0"
      },
      "execution_count": null,
      "outputs": [
        {
          "output_type": "stream",
          "name": "stdout",
          "text": [
            "0.15260813772339665\n"
          ]
        }
      ]
    },
    {
      "cell_type": "markdown",
      "source": [
        "It is known that 20% of the accounts in a company are delinquent. If 5 accounts are \n",
        "selected at random, Compute the following probabilities: (i) at most 2 accounts will \n",
        "be delinquent (ii) at most 4 accounts will be delinquent"
      ],
      "metadata": {
        "id": "yyOBC6glAjrP"
      }
    },
    {
      "cell_type": "code",
      "source": [
        "print(poisson.cdf(2,1)) #lambda=n*p = 0.20 * 5 =1 for first division"
      ],
      "metadata": {
        "colab": {
          "base_uri": "https://localhost:8080/"
        },
        "id": "gA_D5KASAkU8",
        "outputId": "ce0d2ca9-f08c-4159-b7f7-402063df8931"
      },
      "execution_count": null,
      "outputs": [
        {
          "output_type": "stream",
          "name": "stdout",
          "text": [
            "0.9196986029286058\n"
          ]
        }
      ]
    },
    {
      "cell_type": "code",
      "source": [
        "print(poisson.cdf(4,1)) # for second division"
      ],
      "metadata": {
        "colab": {
          "base_uri": "https://localhost:8080/"
        },
        "id": "eSsBAOpiBCg0",
        "outputId": "5d37ac99-c77e-4e8d-d4a3-9e69db2eb0f5"
      },
      "execution_count": null,
      "outputs": [
        {
          "output_type": "stream",
          "name": "stdout",
          "text": [
            "0.9963401531726563\n"
          ]
        }
      ]
    },
    {
      "cell_type": "markdown",
      "source": [
        "A book of 500 pages contains 500 mistakes. Find the probability that there are at \n",
        "least four mistakes per page"
      ],
      "metadata": {
        "id": "AP6UTxRSNULG"
      }
    },
    {
      "cell_type": "code",
      "source": [
        "binom.sf(3,500,0.002) # using binomial distribution  probability of mistakes per page = 1/500 p=0.002 "
      ],
      "metadata": {
        "colab": {
          "base_uri": "https://localhost:8080/"
        },
        "id": "wC_oohSjL2Kb",
        "outputId": "44e89263-b06d-43ab-d9d0-5af9250d3e3d"
      },
      "execution_count": null,
      "outputs": [
        {
          "output_type": "execute_result",
          "data": {
            "text/plain": [
              "0.01886548978698385"
            ]
          },
          "metadata": {},
          "execution_count": 90
        }
      ]
    },
    {
      "cell_type": "markdown",
      "source": [
        "NORMAL DISTRIBUTION\n"
      ],
      "metadata": {
        "id": "ypnfzfQ1P6IT"
      }
    },
    {
      "cell_type": "markdown",
      "source": [
        " A normal distribution has mean  20\n",
        "and S.D 10\n",
        ". Find \n",
        "P (15<=X<=40)"
      ],
      "metadata": {
        "id": "l4gH9SyKQDG-"
      }
    },
    {
      "cell_type": "code",
      "source": [
        "from scipy.stats import norm"
      ],
      "metadata": {
        "id": "Ur0USLEyQEz2"
      },
      "execution_count": null,
      "outputs": []
    },
    {
      "cell_type": "code",
      "source": [
        "norm.cdf(40,20,10)-norm.cdf(15,20,10)"
      ],
      "metadata": {
        "colab": {
          "base_uri": "https://localhost:8080/"
        },
        "id": "N6tUW-pJQbKJ",
        "outputId": "e697aed3-53c4-4bd8-a6fb-21e54d556db5"
      },
      "execution_count": null,
      "outputs": [
        {
          "output_type": "execute_result",
          "data": {
            "text/plain": [
              "0.6687123293258339"
            ]
          },
          "metadata": {},
          "execution_count": 92
        }
      ]
    },
    {
      "cell_type": "markdown",
      "source": [
        "If is a normal variate with mean 30 and standard deviation 5, find the probabilities \n",
        "that (i) \n",
        "26<=X<=40\n",
        "(ii) \n",
        "X >= 45\n",
        "(iii)\n",
        " modulus(X-30)>5"
      ],
      "metadata": {
        "id": "H0hqIyboQkk9"
      }
    },
    {
      "cell_type": "code",
      "source": [
        "norm.cdf(40,30,5)-norm.cdf(26,30,5) #first sub division"
      ],
      "metadata": {
        "colab": {
          "base_uri": "https://localhost:8080/"
        },
        "id": "MSZANRn4QrFg",
        "outputId": "bdb69321-3093-4bd0-d6a6-8cd4e3a58376"
      },
      "execution_count": null,
      "outputs": [
        {
          "output_type": "execute_result",
          "data": {
            "text/plain": [
              "0.765394469468424"
            ]
          },
          "metadata": {},
          "execution_count": 93
        }
      ]
    },
    {
      "cell_type": "code",
      "source": [
        "1-norm.cdf(44,30,5) # second sub division"
      ],
      "metadata": {
        "colab": {
          "base_uri": "https://localhost:8080/"
        },
        "id": "WKoEv-_NRKFV",
        "outputId": "b53a029e-7c0b-483a-83a8-0a20fbc3c815"
      },
      "execution_count": null,
      "outputs": [
        {
          "output_type": "execute_result",
          "data": {
            "text/plain": [
              "0.0025551303304279793"
            ]
          },
          "metadata": {},
          "execution_count": 94
        }
      ]
    },
    {
      "cell_type": "code",
      "source": [
        "norm.cdf(24,30,5) # third sub division"
      ],
      "metadata": {
        "colab": {
          "base_uri": "https://localhost:8080/"
        },
        "id": "JalFe2dLReYb",
        "outputId": "2742d26b-e30c-4840-f486-794b2af914ec"
      },
      "execution_count": null,
      "outputs": [
        {
          "output_type": "execute_result",
          "data": {
            "text/plain": [
              "0.11506967022170822"
            ]
          },
          "metadata": {},
          "execution_count": 95
        }
      ]
    },
    {
      "cell_type": "markdown",
      "source": [
        "The average seasonal rainfall in a place is 16 inches with a S.D of 4 inches. What is \n",
        "the probability that in a year the rainfall in that place will be between 20 and 24 \n",
        "inches?"
      ],
      "metadata": {
        "id": "6p0tRhr4SVyR"
      }
    },
    {
      "cell_type": "code",
      "source": [
        "norm.cdf(24,16,4) - norm.cdf(19,16,4)"
      ],
      "metadata": {
        "colab": {
          "base_uri": "https://localhost:8080/"
        },
        "id": "Mwo_RY4dSWZY",
        "outputId": "ff61d652-7c5f-4442-819f-9e902ac6668e"
      },
      "execution_count": null,
      "outputs": [
        {
          "output_type": "execute_result",
          "data": {
            "text/plain": [
              "0.20387722042868905"
            ]
          },
          "metadata": {},
          "execution_count": 96
        }
      ]
    },
    {
      "cell_type": "markdown",
      "source": [
        "The marks obtained by a large group of students in a final examination in statistics \n",
        "have a mean 58 and a S.D of 85. Assuming that these marks are approximately \n",
        "normally distributed, what percentage of the students can be expected to have \n",
        "obtained marks from 60 to 69"
      ],
      "metadata": {
        "id": "EL7LCPg8SiZG"
      }
    },
    {
      "cell_type": "code",
      "source": [
        "norm.cdf(69,58,85)-norm.cdf(59,58,65)"
      ],
      "metadata": {
        "colab": {
          "base_uri": "https://localhost:8080/"
        },
        "id": "nV0EnhZcSw0Z",
        "outputId": "250bbba1-2973-4d6e-f8c7-3d84823ed6c5"
      },
      "execution_count": null,
      "outputs": [
        {
          "output_type": "execute_result",
          "data": {
            "text/plain": [
              "0.04534674902425162"
            ]
          },
          "metadata": {},
          "execution_count": 97
        }
      ]
    },
    {
      "cell_type": "markdown",
      "source": [
        "An electric firm manufactures light bulbs that have a life, before burn-out, that is \n",
        "normally distributed with mean equal to 800 hours and a standard deviation of 40 \n",
        "hours. Find (i) The probability that a bulb burns more than 834 hours \n",
        " (ii) The probability that bulbs burns between 778 and 834 hour"
      ],
      "metadata": {
        "id": "UNubRPTeTO0H"
      }
    },
    {
      "cell_type": "code",
      "source": [
        "1-norm.cdf(834,800,40) # first sub division"
      ],
      "metadata": {
        "colab": {
          "base_uri": "https://localhost:8080/"
        },
        "id": "BWWSce6sTPbc",
        "outputId": "e2007245-d490-454c-a6f2-25073d78632f"
      },
      "execution_count": null,
      "outputs": [
        {
          "output_type": "execute_result",
          "data": {
            "text/plain": [
              "0.19766254312269238"
            ]
          },
          "metadata": {},
          "execution_count": 98
        }
      ]
    },
    {
      "cell_type": "code",
      "source": [
        "norm.cdf(834,800,40)-norm.cdf(777,800,40)"
      ],
      "metadata": {
        "colab": {
          "base_uri": "https://localhost:8080/"
        },
        "id": "EAjYb_18TYvd",
        "outputId": "4df5d256-a7e8-4a26-d5de-d4b57ba6f73e"
      },
      "execution_count": null,
      "outputs": [
        {
          "output_type": "execute_result",
          "data": {
            "text/plain": [
              "0.519691808380107"
            ]
          },
          "metadata": {},
          "execution_count": 99
        }
      ]
    },
    {
      "cell_type": "markdown",
      "source": [
        "The savings bank account of a customer showed an average balance of Rs.150 and a \n",
        "S.D of Rs.50. Assuming that the account balances are normally distributed. \n",
        "(i) What percent of account is over Rs.200? (ii) What percent of account is \n",
        "between Rs.120 and Rs.170? (iii) What percent of account is less than Rs.75?"
      ],
      "metadata": {
        "id": "dKQGch5bTq51"
      }
    },
    {
      "cell_type": "code",
      "source": [
        "1-norm.cdf(200,150,50) #first sub division"
      ],
      "metadata": {
        "colab": {
          "base_uri": "https://localhost:8080/"
        },
        "id": "fLHXTtOpTriv",
        "outputId": "97183ebc-b20b-49fa-dc70-db5e27932c05"
      },
      "execution_count": null,
      "outputs": [
        {
          "output_type": "execute_result",
          "data": {
            "text/plain": [
              "0.15865525393145707"
            ]
          },
          "metadata": {},
          "execution_count": 100
        }
      ]
    },
    {
      "cell_type": "code",
      "source": [
        "norm.cdf(74,150,50)"
      ],
      "metadata": {
        "colab": {
          "base_uri": "https://localhost:8080/"
        },
        "id": "IUYEbYAaUJ8K",
        "outputId": "70605951-fa2c-40b0-e448-410d4ef18372"
      },
      "execution_count": null,
      "outputs": [
        {
          "output_type": "execute_result",
          "data": {
            "text/plain": [
              "0.06425548781893581"
            ]
          },
          "metadata": {},
          "execution_count": 101
        }
      ]
    },
    {
      "cell_type": "code",
      "source": [
        "norm.cdf(170,150,50)-norm.cdf(119,150,50)"
      ],
      "metadata": {
        "colab": {
          "base_uri": "https://localhost:8080/"
        },
        "id": "kSyTPIgGUSMr",
        "outputId": "9685021e-08b3-4b66-d3f8-54e3ca535592"
      },
      "execution_count": null,
      "outputs": [
        {
          "output_type": "execute_result",
          "data": {
            "text/plain": [
              "0.38779284814134113"
            ]
          },
          "metadata": {},
          "execution_count": 102
        }
      ]
    },
    {
      "cell_type": "markdown",
      "source": [
        "The mean yield for one-acre plot is 662 kilos with S.D 32 kilos. Assuming normal \n",
        "distribution, how many one-acre plots in a patch of 1,000 plots would you expect to \n",
        "have yield over 700 kilos, below 650 kilos.\n"
      ],
      "metadata": {
        "id": "duCeVrqUUxwS"
      }
    },
    {
      "cell_type": "code",
      "source": [
        "a=1 - norm.cdf(700,662,32) # for over 700kilos\n",
        "a"
      ],
      "metadata": {
        "colab": {
          "base_uri": "https://localhost:8080/"
        },
        "id": "cUVB4tGBUyfu",
        "outputId": "163e3972-22be-4007-969f-dae5b27a4aea"
      },
      "execution_count": null,
      "outputs": [
        {
          "output_type": "execute_result",
          "data": {
            "text/plain": [
              "0.11751522829321415"
            ]
          },
          "metadata": {},
          "execution_count": 103
        }
      ]
    },
    {
      "cell_type": "code",
      "source": [
        "b= norm.cdf(649,662,32) # for below 650 kilos\n",
        "b "
      ],
      "metadata": {
        "colab": {
          "base_uri": "https://localhost:8080/"
        },
        "id": "Q7TPjcqdVKh2",
        "outputId": "f5e290ec-b994-4312-8881-e1a2193cccf5"
      },
      "execution_count": null,
      "outputs": [
        {
          "output_type": "execute_result",
          "data": {
            "text/plain": [
              "0.3422794596839509"
            ]
          },
          "metadata": {},
          "execution_count": 104
        }
      ]
    },
    {
      "cell_type": "markdown",
      "source": [
        "The marks obtained by the students in mathematics, physics and chemistry in an \n",
        "examination are normally distributed with means 52, 50 and 48 and with standard \n",
        "deviations 10, 8 and 6 respectively. Find the probability that a student selected at \n",
        "random has secured a total of (i) 180 or above (ii) 135 or less"
      ],
      "metadata": {
        "id": "qm54-e_iWC_r"
      }
    },
    {
      "cell_type": "code",
      "source": [
        "mean=52+50+48\n",
        "mean"
      ],
      "metadata": {
        "colab": {
          "base_uri": "https://localhost:8080/"
        },
        "id": "zk3e-yihWD-s",
        "outputId": "d72bc2f7-edb7-4e9b-d418-53fdff650391"
      },
      "execution_count": null,
      "outputs": [
        {
          "output_type": "execute_result",
          "data": {
            "text/plain": [
              "150"
            ]
          },
          "metadata": {},
          "execution_count": 105
        }
      ]
    },
    {
      "cell_type": "code",
      "source": [
        "std=10+8+6\n",
        "std"
      ],
      "metadata": {
        "colab": {
          "base_uri": "https://localhost:8080/"
        },
        "id": "GYd3qmVjWLLx",
        "outputId": "237429e0-2b57-456b-e4ac-45eef1bb7d84"
      },
      "execution_count": null,
      "outputs": [
        {
          "output_type": "execute_result",
          "data": {
            "text/plain": [
              "24"
            ]
          },
          "metadata": {},
          "execution_count": 106
        }
      ]
    },
    {
      "cell_type": "code",
      "source": [
        "1-norm.cdf(179,mean,std) # first sub division"
      ],
      "metadata": {
        "colab": {
          "base_uri": "https://localhost:8080/"
        },
        "id": "JiheyesSWOCj",
        "outputId": "b7c285e3-83a1-4405-938e-733c11ef810b"
      },
      "execution_count": null,
      "outputs": [
        {
          "output_type": "execute_result",
          "data": {
            "text/plain": [
              "0.11345953586873958"
            ]
          },
          "metadata": {},
          "execution_count": 107
        }
      ]
    },
    {
      "cell_type": "code",
      "source": [
        "norm.cdf(135,mean,std) # second sub division"
      ],
      "metadata": {
        "colab": {
          "base_uri": "https://localhost:8080/"
        },
        "id": "Km7RbtL4WhP1",
        "outputId": "b191efe0-a6de-423b-edfd-b9635d28a50a"
      },
      "execution_count": null,
      "outputs": [
        {
          "output_type": "execute_result",
          "data": {
            "text/plain": [
              "0.26598552904870054"
            ]
          },
          "metadata": {},
          "execution_count": 108
        }
      ]
    },
    {
      "cell_type": "markdown",
      "source": [
        "If \n",
        "X\n",
        "is a normal variate with mean 2 and S.D 3, describe the distribution \n",
        "of Y=1/2(X-1),also find P(Y>=3/2)"
      ],
      "metadata": {
        "id": "EhOauLLVfHp_"
      }
    },
    {
      "cell_type": "code",
      "source": [
        "1-norm.cdf(4,2,3)"
      ],
      "metadata": {
        "colab": {
          "base_uri": "https://localhost:8080/"
        },
        "id": "WeDfsyxbfJTL",
        "outputId": "80de9b39-adbd-4055-eae6-744b76bfb9f2"
      },
      "execution_count": null,
      "outputs": [
        {
          "output_type": "execute_result",
          "data": {
            "text/plain": [
              "0.2524925375469229"
            ]
          },
          "metadata": {},
          "execution_count": 109
        }
      ]
    },
    {
      "cell_type": "markdown",
      "source": [
        "In a N.D, 31% of the items are under 45 and 8% are over 64. Find the mean and \n",
        "variance of the distribution"
      ],
      "metadata": {
        "id": "K3jwwO2liIF1"
      }
    },
    {
      "cell_type": "code",
      "source": [
        "mean1= 0.31*45 \n",
        "mean2=0.08*64\n",
        "mean=mean1+mean2\n",
        "mean"
      ],
      "metadata": {
        "colab": {
          "base_uri": "https://localhost:8080/"
        },
        "id": "riMQ2e8IiE-m",
        "outputId": "c582f216-d37e-4625-d40a-28e32e19a49b"
      },
      "execution_count": null,
      "outputs": [
        {
          "output_type": "execute_result",
          "data": {
            "text/plain": [
              "19.07"
            ]
          },
          "metadata": {},
          "execution_count": 110
        }
      ]
    },
    {
      "cell_type": "code",
      "source": [
        "import math\n",
        "a=(45-19.07)**2 \n",
        "b=a*0.31\n",
        "c=(64-19.07)**2\n",
        "d=c*0.08\n",
        "var=b+d\n",
        "var\n"
      ],
      "metadata": {
        "colab": {
          "base_uri": "https://localhost:8080/"
        },
        "id": "3c0on__FjBm8",
        "outputId": "f9bd82d4-3507-4bcb-cee2-f28fbe48dbcf"
      },
      "execution_count": null,
      "outputs": [
        {
          "output_type": "execute_result",
          "data": {
            "text/plain": [
              "369.929511"
            ]
          },
          "metadata": {},
          "execution_count": 111
        }
      ]
    },
    {
      "cell_type": "markdown",
      "source": [
        "In a distribution exactly normal 7% of the items are under 35 and 89% are under 63. \n",
        "What are the mean and S.D of the distribution?"
      ],
      "metadata": {
        "id": "Bxr97w1Zn3hD"
      }
    },
    {
      "cell_type": "code",
      "source": [
        "mean1=0.07*35\n",
        "mean2=0.89*63\n",
        "mean=mean1+mean2\n",
        "mean"
      ],
      "metadata": {
        "colab": {
          "base_uri": "https://localhost:8080/"
        },
        "id": "2QGrFw7an4Tw",
        "outputId": "86fe02b6-75f6-4f0f-b2ab-3f1f1387ca4b"
      },
      "execution_count": null,
      "outputs": [
        {
          "output_type": "execute_result",
          "data": {
            "text/plain": [
              "58.52"
            ]
          },
          "metadata": {},
          "execution_count": 112
        }
      ]
    },
    {
      "cell_type": "code",
      "source": [
        "a=(35-58.52)**2\n",
        "b=a*0.07\n",
        "c=(63-58.52)**2\n",
        "d=c*0.89\n",
        "var=b+d\n",
        "var"
      ],
      "metadata": {
        "colab": {
          "base_uri": "https://localhost:8080/"
        },
        "id": "NAB4NyQUpX42",
        "outputId": "27c1a5ba-aaed-41f1-dd6e-91ecd9f17068"
      },
      "execution_count": null,
      "outputs": [
        {
          "output_type": "execute_result",
          "data": {
            "text/plain": [
              "56.58598399999999"
            ]
          },
          "metadata": {},
          "execution_count": 113
        }
      ]
    },
    {
      "cell_type": "markdown",
      "source": [
        "A company finds that the time taken by one of its engineers to complete or repair job \n",
        "has a normal distribution with mean 40mins and variance 25mins. State what \n",
        "proportion of jobs take: (i) less than 35mins (ii) more than 48mins.\n",
        "If the company charges Rs.20 if the job takes less 35mins, Rs.40 if it takes between 35 \n",
        "and 48 minutes and Rs.70 if it takes more than 48mins. Find the average charge for a \n",
        "repair job"
      ],
      "metadata": {
        "id": "h0yIEMl8qtY6"
      }
    },
    {
      "cell_type": "code",
      "source": [
        "import math\n",
        "var=25\n",
        "std=math.sqrt(var)\n",
        "std"
      ],
      "metadata": {
        "colab": {
          "base_uri": "https://localhost:8080/"
        },
        "id": "ziou2rfuquNJ",
        "outputId": "6ff19a14-ceb8-4e88-de79-fc4ac120acf0"
      },
      "execution_count": null,
      "outputs": [
        {
          "output_type": "execute_result",
          "data": {
            "text/plain": [
              "5.0"
            ]
          },
          "metadata": {},
          "execution_count": 114
        }
      ]
    },
    {
      "cell_type": "code",
      "source": [
        "a=norm.cdf(34,40,5) # less than 35 mins\n",
        "a"
      ],
      "metadata": {
        "colab": {
          "base_uri": "https://localhost:8080/"
        },
        "id": "g2p25uQnr5MO",
        "outputId": "844dc8ba-2967-467b-ff63-d9bf7ec59a9b"
      },
      "execution_count": null,
      "outputs": [
        {
          "output_type": "execute_result",
          "data": {
            "text/plain": [
              "0.11506967022170822"
            ]
          },
          "metadata": {},
          "execution_count": 115
        }
      ]
    },
    {
      "cell_type": "code",
      "source": [
        "b=1-norm.cdf(48,40,5) # for more than 48 mins\n",
        "b"
      ],
      "metadata": {
        "colab": {
          "base_uri": "https://localhost:8080/"
        },
        "id": "0I25CnTyr_34",
        "outputId": "b9798c72-f41f-4371-c2f4-a61bdd947768"
      },
      "execution_count": null,
      "outputs": [
        {
          "output_type": "execute_result",
          "data": {
            "text/plain": [
              "0.054799291699557995"
            ]
          },
          "metadata": {},
          "execution_count": 116
        }
      ]
    },
    {
      "cell_type": "code",
      "source": [
        "lessthan20=a*20\n",
        "morethan48=b*70\n",
        "sum=lessthan20+morethan48\n",
        "avgcharge=sum/2\n",
        "avgcharge"
      ],
      "metadata": {
        "colab": {
          "base_uri": "https://localhost:8080/"
        },
        "id": "g8iVjmY4sbHL",
        "outputId": "5d2fdb9a-5575-45e1-8acf-c84cfa601404"
      },
      "execution_count": null,
      "outputs": [
        {
          "output_type": "execute_result",
          "data": {
            "text/plain": [
              "3.068671911701612"
            ]
          },
          "metadata": {},
          "execution_count": 117
        }
      ]
    },
    {
      "cell_type": "markdown",
      "source": [
        "EXPONENTIAL DISTRIBUTION"
      ],
      "metadata": {
        "id": "UocvhbOcaWQQ"
      }
    },
    {
      "cell_type": "markdown",
      "source": [
        "The mileage which car owners get with a certain kind of radial tire is a random \n",
        "variable having an E.D with mean 40,000km. Find the probability that one of these \n",
        "tires will last (i) at least 20,000km (ii) at most 30,000km.\n"
      ],
      "metadata": {
        "id": "HyiydIt-aa0a"
      }
    },
    {
      "cell_type": "code",
      "source": [
        "from scipy.stats import expon"
      ],
      "metadata": {
        "id": "Ux6GzNiFacC5"
      },
      "execution_count": null,
      "outputs": []
    },
    {
      "cell_type": "code",
      "source": [
        "1-expon.cdf(20000,0,40000) # first sub division"
      ],
      "metadata": {
        "colab": {
          "base_uri": "https://localhost:8080/"
        },
        "id": "dfZbVAhgapDb",
        "outputId": "c02ffa24-a248-4323-f139-26f170f38bd7"
      },
      "execution_count": null,
      "outputs": [
        {
          "output_type": "execute_result",
          "data": {
            "text/plain": [
              "0.6065306597126334"
            ]
          },
          "metadata": {},
          "execution_count": 119
        }
      ]
    },
    {
      "cell_type": "code",
      "source": [
        "expon.cdf(30000,0,40000) # second sub division"
      ],
      "metadata": {
        "colab": {
          "base_uri": "https://localhost:8080/"
        },
        "id": "nhCoQV4ebUY5",
        "outputId": "0cb9b685-2422-4045-fb0a-2f690f2106cd"
      },
      "execution_count": null,
      "outputs": [
        {
          "output_type": "execute_result",
          "data": {
            "text/plain": [
              "0.5276334472589853"
            ]
          },
          "metadata": {},
          "execution_count": 120
        }
      ]
    },
    {
      "cell_type": "markdown",
      "source": [
        "The time (in hours) required to repair a machine is exponentially distributed with \n",
        "parameter lambda=1/2\n",
        "(a) What is the probability that the repair time exceeds 2hrs? \n",
        "(b) What is the conditional probability that a repair takes at least 10hrs given that its \n",
        "duration exceeds 9hrs?"
      ],
      "metadata": {
        "id": "2660Dps0bkWa"
      }
    },
    {
      "cell_type": "code",
      "source": [
        "mean= 2 #mean=1/lamba\n",
        "expon.sf(2,0,2) # first sub divsion"
      ],
      "metadata": {
        "colab": {
          "base_uri": "https://localhost:8080/"
        },
        "id": "yNZWsNave8dK",
        "outputId": "b025cfae-d04b-4caa-8cde-7799ba430735"
      },
      "execution_count": null,
      "outputs": [
        {
          "output_type": "execute_result",
          "data": {
            "text/plain": [
              "0.36787944117144233"
            ]
          },
          "metadata": {},
          "execution_count": 121
        }
      ]
    },
    {
      "cell_type": "code",
      "source": [
        "expon.sf(10,0,2) / expon.sf(9,0,2) # second sub division"
      ],
      "metadata": {
        "colab": {
          "base_uri": "https://localhost:8080/"
        },
        "id": "lcewJ_MBgVsj",
        "outputId": "585084f3-35ea-43a1-f034-4d66694f7eeb"
      },
      "execution_count": null,
      "outputs": [
        {
          "output_type": "execute_result",
          "data": {
            "text/plain": [
              "0.6065306597126334"
            ]
          },
          "metadata": {},
          "execution_count": 122
        }
      ]
    },
    {
      "cell_type": "markdown",
      "source": [
        "The length of time a person speaks over phone follows exponential distribution with \n",
        "mean \n",
        "6\n",
        ". What is the probability that the person will talk for \n",
        "(i) more than 8mins (ii) between 4 and 8mins.\n"
      ],
      "metadata": {
        "id": "Dky2CkkDgrUs"
      }
    },
    {
      "cell_type": "code",
      "source": [
        " expon.sf(8,0,6) # first sub division"
      ],
      "metadata": {
        "colab": {
          "base_uri": "https://localhost:8080/"
        },
        "id": "xh-B4GgzgsFL",
        "outputId": "f6795689-c346-43ba-fd23-20813d9ee599"
      },
      "execution_count": null,
      "outputs": [
        {
          "output_type": "execute_result",
          "data": {
            "text/plain": [
              "0.26359713811572677"
            ]
          },
          "metadata": {},
          "execution_count": 123
        }
      ]
    },
    {
      "cell_type": "code",
      "source": [
        "expon.cdf(8,0,6)-expon.cdf(3,0,6) # second sub division"
      ],
      "metadata": {
        "colab": {
          "base_uri": "https://localhost:8080/"
        },
        "id": "bxml-Yhmgwu1",
        "outputId": "6db9a677-5e07-4b04-f051-0f1b5fc20b08"
      },
      "execution_count": null,
      "outputs": [
        {
          "output_type": "execute_result",
          "data": {
            "text/plain": [
              "0.3429335215969067"
            ]
          },
          "metadata": {},
          "execution_count": 124
        }
      ]
    },
    {
      "cell_type": "markdown",
      "source": [
        "The amount of time that a watch will run without having to be reset is ar.v having an \n",
        "exponential distribution with mean 120 days. Find the probability that such a watch \n",
        "will \n",
        "(i) Have to be set in less than 24 days \n",
        "(ii) Not have to be reset in at least 180 days."
      ],
      "metadata": {
        "id": "zkMoCI4uiDgQ"
      }
    },
    {
      "cell_type": "code",
      "source": [
        "expon.cdf(24,0,120) # first division"
      ],
      "metadata": {
        "colab": {
          "base_uri": "https://localhost:8080/"
        },
        "id": "_gNDWojNiEki",
        "outputId": "03c7ffe1-2709-4083-bb56-76fe66488b45"
      },
      "execution_count": null,
      "outputs": [
        {
          "output_type": "execute_result",
          "data": {
            "text/plain": [
              "0.18126924692201815"
            ]
          },
          "metadata": {},
          "execution_count": 125
        }
      ]
    },
    {
      "cell_type": "code",
      "source": [
        "expon.sf(180,0,120)"
      ],
      "metadata": {
        "colab": {
          "base_uri": "https://localhost:8080/"
        },
        "id": "eEEJgeGZiZRf",
        "outputId": "a83d0772-05bc-4792-e8ec-f01393ff8923"
      },
      "execution_count": null,
      "outputs": [
        {
          "output_type": "execute_result",
          "data": {
            "text/plain": [
              "0.22313016014842982"
            ]
          },
          "metadata": {},
          "execution_count": 126
        }
      ]
    },
    {
      "cell_type": "markdown",
      "source": [
        "If the number of kilometers that a car can run before its battery wears out is \n",
        "exponentially distributed with an average value of 10,000km and if the owner desires \n",
        "to take a 5,000km trip, what is the probability that he will be able to complete his trip \n",
        "without having to replace the car battery. Assume that the car has been used for some \n",
        "time"
      ],
      "metadata": {
        "id": "TjEGi2SJj75P"
      }
    },
    {
      "cell_type": "code",
      "source": [
        "expon.sf(5000,0,10000)"
      ],
      "metadata": {
        "colab": {
          "base_uri": "https://localhost:8080/"
        },
        "id": "-WaatoADj9gT",
        "outputId": "db3f8085-f5d0-43de-ade1-4344baa59b8a"
      },
      "execution_count": null,
      "outputs": [
        {
          "output_type": "execute_result",
          "data": {
            "text/plain": [
              "0.6065306597126334"
            ]
          },
          "metadata": {},
          "execution_count": 127
        }
      ]
    },
    {
      "cell_type": "markdown",
      "source": [
        "GEOMETRIC DISTRIBUTION"
      ],
      "metadata": {
        "id": "xRaPn_-TDv5J"
      }
    },
    {
      "cell_type": "markdown",
      "source": [
        "If the probability that a target is destroyed on any one shot is 0.5, what is the \n",
        "probability that it would be destroyed on  6th attempt? "
      ],
      "metadata": {
        "id": "M7U5qPNDE7dF"
      }
    },
    {
      "cell_type": "code",
      "source": [
        "from scipy.stats import geom"
      ],
      "metadata": {
        "id": "mTQ8PpGaE8ny"
      },
      "execution_count": null,
      "outputs": []
    },
    {
      "cell_type": "code",
      "source": [
        "geom.pmf(6,0.5)"
      ],
      "metadata": {
        "colab": {
          "base_uri": "https://localhost:8080/"
        },
        "id": "bm4wYI-qFHat",
        "outputId": "f29eb7de-3091-408c-ea2c-c91ab998ebd5"
      },
      "execution_count": null,
      "outputs": [
        {
          "output_type": "execute_result",
          "data": {
            "text/plain": [
              "0.015625"
            ]
          },
          "metadata": {},
          "execution_count": 129
        }
      ]
    },
    {
      "cell_type": "markdown",
      "source": [
        "If the probability that an applicant for a drivers licence will pass the road test on any \n",
        "given trial is 0.8, what is the probability that he will finally pass the test (i) on the 4th\n",
        "trial (ii) in fewer than 4 trials?\n"
      ],
      "metadata": {
        "id": "qEnRoKi7G3f9"
      }
    },
    {
      "cell_type": "code",
      "source": [
        "geom.pmf(4,0.8) # first sub division"
      ],
      "metadata": {
        "colab": {
          "base_uri": "https://localhost:8080/"
        },
        "id": "u3UCMZKWG4r0",
        "outputId": "de70c0fa-1858-4459-f694-1128ffbc70ad"
      },
      "execution_count": null,
      "outputs": [
        {
          "output_type": "execute_result",
          "data": {
            "text/plain": [
              "0.006399999999999996"
            ]
          },
          "metadata": {},
          "execution_count": 130
        }
      ]
    },
    {
      "cell_type": "code",
      "source": [
        "geom.cdf(3,0.8)"
      ],
      "metadata": {
        "colab": {
          "base_uri": "https://localhost:8080/"
        },
        "id": "4GAB3r8_HAJ5",
        "outputId": "80a3b6de-3cf7-48d0-db82-a96a122507fc"
      },
      "execution_count": null,
      "outputs": [
        {
          "output_type": "execute_result",
          "data": {
            "text/plain": [
              "0.992"
            ]
          },
          "metadata": {},
          "execution_count": 131
        }
      ]
    },
    {
      "cell_type": "markdown",
      "source": [
        "Suppose that a trainee soldier shoots a target in an independent fashion. If the \n",
        "probability that the target is shot on any one shot is 0.8. (i) What is the probability \n",
        "that the target would be hit on 6\n",
        "th attempt? (ii) What is the probability that it takes \n",
        "him less than 5 shots? (iii) What is the probability that it takes him an even number \n",
        "of shots? \n"
      ],
      "metadata": {
        "id": "tX1cpDhDHL29"
      }
    },
    {
      "cell_type": "code",
      "source": [
        "geom.pmf(6,0.8)"
      ],
      "metadata": {
        "colab": {
          "base_uri": "https://localhost:8080/"
        },
        "id": "R7KfJlF7HMm_",
        "outputId": "4fbd7643-ff22-47d1-d8b2-21b46aea30f3"
      },
      "execution_count": null,
      "outputs": [
        {
          "output_type": "execute_result",
          "data": {
            "text/plain": [
              "0.0002559999999999997"
            ]
          },
          "metadata": {},
          "execution_count": 132
        }
      ]
    },
    {
      "cell_type": "code",
      "source": [
        "geom.cdf(4,0.8)"
      ],
      "metadata": {
        "colab": {
          "base_uri": "https://localhost:8080/"
        },
        "id": "pO7wLPVrHTdY",
        "outputId": "d4186541-6b1f-4f54-acb9-34944bf24a6d"
      },
      "execution_count": null,
      "outputs": [
        {
          "output_type": "execute_result",
          "data": {
            "text/plain": [
              "0.9984"
            ]
          },
          "metadata": {},
          "execution_count": 133
        }
      ]
    },
    {
      "cell_type": "code",
      "source": [
        "geom.pmf(2,0.8)+geom.pmf(4,0.8)+geom.pmf(6,0.8)"
      ],
      "metadata": {
        "colab": {
          "base_uri": "https://localhost:8080/"
        },
        "id": "BLnBhzTOHZnb",
        "outputId": "ba8484f8-616c-42d3-a349-1df61c8912ec"
      },
      "execution_count": null,
      "outputs": [
        {
          "output_type": "execute_result",
          "data": {
            "text/plain": [
              "0.16665599999999997"
            ]
          },
          "metadata": {},
          "execution_count": 134
        }
      ]
    },
    {
      "cell_type": "markdown",
      "source": [
        "UNIFORM DISTRIBUTION"
      ],
      "metadata": {
        "id": "qtg9vuouM0qq"
      }
    },
    {
      "cell_type": "code",
      "source": [
        "from scipy.stats import uniform"
      ],
      "metadata": {
        "id": "fjrII0NJOCQo"
      },
      "execution_count": null,
      "outputs": []
    },
    {
      "cell_type": "markdown",
      "source": [
        "Buses arrive at a specific bus stop at 15 minutes intervals starting at 7am that is 7a.m, \n",
        "7.15am, 7.30am., etc. If a passenger arrives at the bus stop at a random time which is \n",
        "Uniformly Distributed between 7am and 7.30am. Find the probability that he waits \n",
        "(a) less than 5 minutes (b) at least 12 minutes for a bus"
      ],
      "metadata": {
        "id": "T58I45kzN-nH"
      }
    },
    {
      "cell_type": "code",
      "source": [
        "uniform.cdf(4,scale=15) # first sub division"
      ],
      "metadata": {
        "colab": {
          "base_uri": "https://localhost:8080/"
        },
        "id": "auSMnqSpN_a3",
        "outputId": "1f344d16-12b1-4ecc-f1d0-f087e717ace4"
      },
      "execution_count": null,
      "outputs": [
        {
          "output_type": "execute_result",
          "data": {
            "text/plain": [
              "0.26666666666666666"
            ]
          },
          "metadata": {},
          "execution_count": 136
        }
      ]
    },
    {
      "cell_type": "code",
      "source": [
        "uniform.sf(12,scale=15) #second sub division"
      ],
      "metadata": {
        "colab": {
          "base_uri": "https://localhost:8080/"
        },
        "id": "8xQb60IzPcHn",
        "outputId": "74080626-247c-4fed-f508-0bf9fd6a4bd7"
      },
      "execution_count": null,
      "outputs": [
        {
          "output_type": "execute_result",
          "data": {
            "text/plain": [
              "0.19999999999999996"
            ]
          },
          "metadata": {},
          "execution_count": 137
        }
      ]
    },
    {
      "cell_type": "markdown",
      "source": [
        "A passenger arrives at a local railway platform at 10am knowing that the local train \n",
        "will arrive at some time Uniformly Distributed between 10am and 10.30am. What is \n",
        "the probability that he will have to wait longer than 10mins? If at 10.15am the train \n",
        "has not yet arrived, what is the probability that he will have to wait at least 10 \n",
        "additional minutes?\n"
      ],
      "metadata": {
        "id": "T133HpfCQeky"
      }
    },
    {
      "cell_type": "code",
      "source": [
        "uniform.sf(10,scale=30) # first sub division"
      ],
      "metadata": {
        "colab": {
          "base_uri": "https://localhost:8080/"
        },
        "id": "mVTuwX8HQoX5",
        "outputId": "5b652654-f593-4eb1-94bc-2258f5511bea"
      },
      "execution_count": null,
      "outputs": [
        {
          "output_type": "execute_result",
          "data": {
            "text/plain": [
              "0.6666666666666667"
            ]
          },
          "metadata": {},
          "execution_count": 138
        }
      ]
    },
    {
      "cell_type": "code",
      "source": [
        "uniform.sf(25,scale=30)/uniform.sf(15,scale=30) # second sub division"
      ],
      "metadata": {
        "colab": {
          "base_uri": "https://localhost:8080/"
        },
        "id": "zuuJch1VRB3e",
        "outputId": "96df174e-864f-499f-e546-8c7d88624bc5"
      },
      "execution_count": null,
      "outputs": [
        {
          "output_type": "execute_result",
          "data": {
            "text/plain": [
              "0.33333333333333326"
            ]
          },
          "metadata": {},
          "execution_count": 139
        }
      ]
    },
    {
      "cell_type": "markdown",
      "source": [
        "Starting at 5am every half an hour there is a flight from San Francisco Airport to Los \n",
        "Angeles international Airport. Suppose that none of these planes is completely sold \n",
        "out and that they always have room for passengers. A person who wants to fly to L.A \n",
        "arrives at the Airport at a random time between 8.45am and 9.45am. Find the \n",
        "probability that she waits (i) at most 10mins (ii) at least 15mins"
      ],
      "metadata": {
        "id": "NU5ybj-hTIbk"
      }
    },
    {
      "cell_type": "code",
      "source": [
        "uniform.cdf(10,scale=30) # first sub division"
      ],
      "metadata": {
        "colab": {
          "base_uri": "https://localhost:8080/"
        },
        "id": "m5EFULOETI7-",
        "outputId": "bc3201e3-1dc8-44d9-8d4c-a187a22b5bdc"
      },
      "execution_count": null,
      "outputs": [
        {
          "output_type": "execute_result",
          "data": {
            "text/plain": [
              "0.3333333333333333"
            ]
          },
          "metadata": {},
          "execution_count": 140
        }
      ]
    },
    {
      "cell_type": "code",
      "source": [
        "uniform.sf(15,scale=30) # second sub division"
      ],
      "metadata": {
        "colab": {
          "base_uri": "https://localhost:8080/"
        },
        "id": "HXi47FJtTwfC",
        "outputId": "9273740c-f2f0-473a-b798-0c5b2c901fbf"
      },
      "execution_count": null,
      "outputs": [
        {
          "output_type": "execute_result",
          "data": {
            "text/plain": [
              "0.5"
            ]
          },
          "metadata": {},
          "execution_count": 141
        }
      ]
    },
    {
      "cell_type": "markdown",
      "source": [
        "Electric train on a certain line run every half an hour between mid-night and six in the \n",
        "morning. What is the probability that a man entering the station at a random time \n",
        "during this period will have to wait at least 20mins?"
      ],
      "metadata": {
        "id": "TgZDw8boUytw"
      }
    },
    {
      "cell_type": "code",
      "source": [
        "uniform.sf(20,scale=30)"
      ],
      "metadata": {
        "colab": {
          "base_uri": "https://localhost:8080/"
        },
        "id": "dqiygHukUziM",
        "outputId": "6a512775-9a17-45b6-dfb8-9f6ca7711578"
      },
      "execution_count": null,
      "outputs": [
        {
          "output_type": "execute_result",
          "data": {
            "text/plain": [
              "0.33333333333333337"
            ]
          },
          "metadata": {},
          "execution_count": 142
        }
      ]
    },
    {
      "cell_type": "markdown",
      "source": [
        "If \n",
        "X ~ U(0,10)\n",
        ", find the probability that \n",
        "(i) X< 2 (ii) X> 8 (iii) 3 < X < 9"
      ],
      "metadata": {
        "id": "-EcttybaWIMh"
      }
    },
    {
      "cell_type": "code",
      "source": [
        "uniform.cdf(1,scale=10) # first sub division"
      ],
      "metadata": {
        "colab": {
          "base_uri": "https://localhost:8080/"
        },
        "id": "T1H1cKzlWm51",
        "outputId": "76453cd8-6dca-4aa9-d8c2-fe05f9a58880"
      },
      "execution_count": null,
      "outputs": [
        {
          "output_type": "execute_result",
          "data": {
            "text/plain": [
              "0.1"
            ]
          },
          "metadata": {},
          "execution_count": 143
        }
      ]
    },
    {
      "cell_type": "code",
      "source": [
        "uniform.sf(8,scale=10) # second sub division"
      ],
      "metadata": {
        "colab": {
          "base_uri": "https://localhost:8080/"
        },
        "id": "hLUo80uCXA2x",
        "outputId": "27a65fdc-4841-4f6c-f0bd-d668b55c23bd"
      },
      "execution_count": null,
      "outputs": [
        {
          "output_type": "execute_result",
          "data": {
            "text/plain": [
              "0.19999999999999996"
            ]
          },
          "metadata": {},
          "execution_count": 144
        }
      ]
    },
    {
      "cell_type": "code",
      "source": [
        "uniform.cdf(9,scale=10)-uniform.sf(3,scale=10) # third sub division"
      ],
      "metadata": {
        "colab": {
          "base_uri": "https://localhost:8080/"
        },
        "id": "Jhng42krXT0T",
        "outputId": "3c11274d-ec81-49c7-fc6d-34b7f6bde37f"
      },
      "execution_count": null,
      "outputs": [
        {
          "output_type": "execute_result",
          "data": {
            "text/plain": [
              "0.20000000000000007"
            ]
          },
          "metadata": {},
          "execution_count": 149
        }
      ]
    }
  ]
}